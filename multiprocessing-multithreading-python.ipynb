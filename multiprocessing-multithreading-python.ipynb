{
 "cells": [
  {
   "cell_type": "markdown",
   "metadata": {},
   "source": [
    "# Multiprocessing and Multithreading in Python: A Comparative Study\n",
    "**Multiprocessing** and **Multithreading** are both mechanisms to achieve concurrency & parallelism in execution of programs and utilization of system resources. However, depending on the specific requiremets of the application, there are some differences in the way they achieve this which should be kept in mind while making a choice.\n",
    "1. Multiprocessing:\n",
    "    - Multiprocessing involves creating multiple processes, each with its own Python interpreter and memory space.\n",
    "    - Processes run independently and can execute in parallel on different CPU cores.\n",
    "    - Processes communicate through inter-process communication (IPC) mechanisms like pipes, queues, or shared memory.\n",
    "    - Each process has its own Global Interpreter Lock (GIL), allowing for true parallel execution and utilization of multiple CPU cores.\n",
    "    - Multiprocessing is suitable for CPU-bound tasks that can benefit from parallel execution, as well as for achieving better resource isolation and handling crashes or exceptions in separate processes.  \n",
    "\n",
    "2. Multithreading:\n",
    "    - Multithreading involves creating multiple threads within a single process, sharing the same memory space and resources.\n",
    "    - Threads run concurrently, but due to the Global Interpreter Lock (GIL) in CPython, only one thread can execute Python bytecode at a time.\n",
    "    - Multithreading is more suitable for I/O-bound tasks or situations where the blocking of one thread does not significantly impact the overall performance.\n",
    "    - Threads can communicate and coordinate by sharing data through shared memory, but proper synchronization mechanisms (such as locks or semaphores) are required to avoid data races and ensure thread safety.\n",
    "    - Although multithreading may not fully utilize multiple CPU cores for CPU-bound tasks, it can still provide benefits in scenarios where parallel execution is not the primary concern.  \n",
    "\n",
    "In python commonly used module for Multiprocessing is **multiprocessing** and **threading** for multithreading. Let's try out some use cases with them.  \n"
   ]
  },
  {
   "cell_type": "markdown",
   "metadata": {},
   "source": [
    "## Common code for imports and functions definitions\n",
    "We will create two functions- one CPU bound and another to simulate I/O bound when CPU is mostly idle. \n",
    "In the following snippet cpu_bound and io_bound functions have been defined. We will be creating driver codes for various cases.\n"
   ]
  },
  {
   "cell_type": "code",
   "execution_count": 28,
   "metadata": {},
   "outputs": [],
   "source": [
    "import os\n",
    "import time\n",
    "from multiprocessing import Process, current_process\n",
    "from threading import Thread, current_thread, active_count\n",
    "\n",
    "NUM = 240000000\n",
    "TIME = 10\n",
    "\n",
    "def cpu_bound(num):\n",
    "    pid, process_name, thread_name = get_context()\n",
    "    print(f\"| {pid} | {process_name} | {thread_name} | ---> Countdown BEGIN\")\n",
    "    \n",
    "    start = time.time()\n",
    "    while num > 0:\n",
    "        num -= 1\n",
    "    end = time.time()\n",
    "\n",
    "    print(f\"| {pid} | {process_name} | {thread_name} | ---> Countdown END after {end - start} seconds\")\n",
    "    \n",
    "def io_bound(sec):\n",
    "    pid, process_name, thread_name = get_context()\n",
    "    print(f\"| {pid} | {process_name} | {thread_name} | ---> Waiting BEGIN\")\n",
    "    \n",
    "    start = time.time()\n",
    "    time.sleep(sec)\n",
    "    end = time.time()\n",
    "\n",
    "    print(f\"| {pid} | {process_name} | {thread_name} | ---> Waiting END after {end - start} seconds\")\n",
    "    \n",
    "def get_context():\n",
    "    return (os.getpid(), current_process().name, current_thread().name)\n"
   ]
  },
  {
   "cell_type": "markdown",
   "metadata": {},
   "source": [
    "## I/O bound execution without concurrency\n",
    "In each driver codes we will run one of the functions twice."
   ]
  },
  {
   "cell_type": "code",
   "execution_count": 15,
   "metadata": {},
   "outputs": [
    {
     "name": "stdout",
     "output_type": "stream",
     "text": [
      "| 42 | MainProcess | MainThread | ---> Waiting BEGIN\n",
      "| 42 | MainProcess | MainThread | ---> Waiting END after 9.999000072479248 seconds\n",
      "| 42 | MainProcess | MainThread | ---> Waiting BEGIN\n",
      "| 42 | MainProcess | MainThread | ---> Waiting END after 10.0 seconds\n",
      "Finished in 20.00499987602234 seconds\n"
     ]
    }
   ],
   "source": [
    "if __name__==\"__main__\":\n",
    "    start = time.time()\n",
    "    io_bound(TIME)\n",
    "    io_bound(TIME)\n",
    "    end = time.time()\n",
    "    print(f\"Finished in {end - start} seconds\")"
   ]
  },
  {
   "cell_type": "markdown",
   "metadata": {},
   "source": [
    "Both the function calls are executed in tandom and take around 10s each. Only MainProcess and MainThread were used."
   ]
  },
  {
   "cell_type": "markdown",
   "metadata": {},
   "source": [
    "## I/O bound execution with multithreading"
   ]
  },
  {
   "cell_type": "code",
   "execution_count": 5,
   "metadata": {},
   "outputs": [
    {
     "name": "stdout",
     "output_type": "stream",
     "text": [
      "| 92746 | MainProcess | Thread-7 (io_bound) | ---> Waiting BEGIN\n",
      "| 92746 | MainProcess | Thread-8 (io_bound) | ---> Waiting BEGIN\n",
      "| 92746 | MainProcess | Thread-7 (io_bound) | ---> Waiting END after 10.009523630142212 seconds\n",
      "| 92746 | MainProcess | Thread-8 (io_bound) | ---> Waiting END after 10.009634733200073 seconds\n",
      "Finished in 10.012132167816162 seconds\n"
     ]
    }
   ],
   "source": [
    "if __name__==\"__main__\":\n",
    "    start = time.time()\n",
    "    thread1 = Thread(target = io_bound, args = [TIME])\n",
    "    thread2 = Thread(target = io_bound, args = [TIME])\n",
    "    thread1.start()\n",
    "    thread2.start()\n",
    "    thread1.join()\n",
    "    thread2.join()\n",
    "    end = time.time()\n",
    "    print(f\"Finished in {end - start} seconds\")"
   ]
  },
  {
   "cell_type": "markdown",
   "metadata": {},
   "source": [
    "Thread-7 and Thread-8 were started at the same time within MainProcess. Both threads calling the I/O bound function took around 10s each to finish. However the whole process completed within around 10s only. That means second thread utilized CPU/processor when it was idle after calling sleep function. Both threads were executed concurrently, rather parallely to be more specific."
   ]
  },
  {
   "cell_type": "markdown",
   "metadata": {},
   "source": [
    "## I/O bound execution with multiprocessing"
   ]
  },
  {
   "cell_type": "code",
   "execution_count": 4,
   "metadata": {},
   "outputs": [
    {
     "name": "stdout",
     "output_type": "stream",
     "text": [
      "| 6368 | Process-3 | MainThread | ---> Waiting BEGIN\n",
      "| 6370 | Process-4 | MainThread | ---> Waiting BEGIN\n",
      "| 6368 | Process-3 | MainThread | ---> Waiting END after 10.010463237762451 seconds\n",
      "| 6370 | Process-4 | MainThread | ---> Waiting END after 10.009718418121338 seconds\n",
      "Finished in 10.062548160552979 seconds\n"
     ]
    }
   ],
   "source": [
    "if __name__==\"__main__\":\n",
    "    start = time.time()\n",
    "    process1 = Process(target = io_bound, args = [TIME])\n",
    "    process2 = Process(target = io_bound, args = [TIME])\n",
    "    process1.start()\n",
    "    process2.start()\n",
    "    process1.join()\n",
    "    process2.join()\n",
    "    end = time.time()\n",
    "    print(f\"Finished in {end - start} seconds\")"
   ]
  },
  {
   "cell_type": "markdown",
   "metadata": {},
   "source": [
    "Results with multiprocessing are as good as with multithreading here. However for I/O bound tasks multiprocessing should be a second option as creating processes itself is a cpu intesive task and takes more time than creating threads. Processes require more resources and need special mechanism like IPC to communicate among themselves. On the other hand threads share same memory space and communicate easily among themselves."
   ]
  },
  {
   "cell_type": "markdown",
   "metadata": {},
   "source": [
    "## CPU bound execution without concurrency"
   ]
  },
  {
   "cell_type": "code",
   "execution_count": 31,
   "metadata": {},
   "outputs": [
    {
     "name": "stdout",
     "output_type": "stream",
     "text": [
      "| 4827 | MainProcess | MainThread | ---> Countdown BEGIN\n",
      "| 4827 | MainProcess | MainThread | ---> Countdown END after 10.136963844299316 seconds\n",
      "| 4827 | MainProcess | MainThread | ---> Countdown BEGIN\n",
      "| 4827 | MainProcess | MainThread | ---> Countdown END after 10.366931676864624 seconds\n",
      "Finished in 20.504101753234863 seconds\n"
     ]
    }
   ],
   "source": [
    "if __name__==\"__main__\":\n",
    "    start = time.time()\n",
    "    cpu_bound(NUM)\n",
    "    cpu_bound(NUM)\n",
    "    end = time.time()\n",
    "    print(f\"Finished in {end - start} seconds\")"
   ]
  },
  {
   "cell_type": "markdown",
   "metadata": {},
   "source": [
    "Both functions take around 10 seconds each and the total time taken by the process seems to the a sum of the two as both executions happened in tandem."
   ]
  },
  {
   "cell_type": "markdown",
   "metadata": {},
   "source": [
    "## CPU bound execution with multithreading"
   ]
  },
  {
   "cell_type": "code",
   "execution_count": 30,
   "metadata": {},
   "outputs": [
    {
     "name": "stdout",
     "output_type": "stream",
     "text": [
      "| 4827 | MainProcess | Thread-13 (cpu_bound) | ---> Countdown BEGIN\n",
      "| 4827 | MainProcess | Thread-14 (cpu_bound) | ---> Countdown BEGIN\n",
      "| 4827 | MainProcess | Thread-13 (cpu_bound) | ---> Countdown END after 18.83767008781433 seconds\n",
      "| 4827 | MainProcess | Thread-14 (cpu_bound) | ---> Countdown END after 18.856546878814697 seconds\n",
      "Finished in 18.88337516784668 seconds\n"
     ]
    }
   ],
   "source": [
    "if __name__==\"__main__\":\n",
    "    start = time.time()\n",
    "    thread1 = Thread(target = cpu_bound, args = [NUM])\n",
    "    thread2 = Thread(target = cpu_bound, args = [NUM])\n",
    "    thread1.start()\n",
    "    thread2.start()\n",
    "    thread1.join()\n",
    "    thread2.join()\n",
    "    end = time.time()\n",
    "    print(f\"Finished in {end - start} seconds\")"
   ]
  },
  {
   "cell_type": "markdown",
   "metadata": {},
   "source": [
    "Though both the threads seem to stat and finish at around same time, there isn't any significant improvement in time in comparison to the previous case when the function is called twice one after the other. We can say thay the tasks' execution happened concurrently but it's not parallel in true sense. Global Interpreter Lock (GIL) prevents second thread to use CPU till the first threads finishes its comutational task. Running with different values of NUM reveals that the minor differen in overall time is or constant order."
   ]
  },
  {
   "cell_type": "markdown",
   "metadata": {},
   "source": [
    "## CPU bound execution with multiprocessing"
   ]
  },
  {
   "cell_type": "code",
   "execution_count": 29,
   "metadata": {},
   "outputs": [
    {
     "name": "stdout",
     "output_type": "stream",
     "text": [
      "| 7270 | Process-7 | MainThread | ---> Countdown BEGIN\n",
      "| 7272 | Process-8 | MainThread | ---> Countdown BEGIN\n",
      "| 7270 | Process-7 | MainThread | ---> Countdown END after 11.069042921066284 seconds\n",
      "| 7272 | Process-8 | MainThread | ---> Countdown END after 11.318077802658081 seconds\n",
      "Finished in 11.368677616119385 seconds\n"
     ]
    }
   ],
   "source": [
    "if __name__==\"__main__\":\n",
    "    start = time.time()\n",
    "    process1 = Process(target = cpu_bound, args = [NUM])\n",
    "    process2 = Process(target = cpu_bound, args = [NUM])\n",
    "    process1.start()\n",
    "    process2.start()\n",
    "    process1.join()\n",
    "    process2.join()\n",
    "    end = time.time()\n",
    "    print(f\"Finished in {end - start} seconds\")"
   ]
  },
  {
   "cell_type": "markdown",
   "metadata": {},
   "source": [
    "This time it seems to be parallel execution in true sense with only sight overhand in time to finish which makes sense as processes take that time to get created. Main process created two subprocesses, 7270 & 7272, which do the countdown on separate CPUs/processors parallely."
   ]
  },
  {
   "cell_type": "markdown",
   "metadata": {},
   "source": [
    "## Summary"
   ]
  },
  {
   "cell_type": "markdown",
   "metadata": {},
   "source": [
    "CPU intestive tasks should be executed using multiprocessing to utilize the aailable compute resources fully and achieve parallelism in its true sense. Though non CPU bound tasks (like I/O bound) perform well with multithreading as well as multiprocessing, multithreading should be the first choice to avoid overhang time, make use of easly inter-thread communication and to spare compute resources to other tasks in need."
   ]
  },
  {
   "cell_type": "code",
   "execution_count": null,
   "metadata": {},
   "outputs": [],
   "source": []
  }
 ],
 "metadata": {
  "kernelspec": {
   "display_name": "Python 3 (ipykernel)",
   "language": "python",
   "name": "python3"
  },
  "language_info": {
   "codemirror_mode": {
    "name": "ipython",
    "version": 3
   },
   "file_extension": ".py",
   "mimetype": "text/x-python",
   "name": "python",
   "nbconvert_exporter": "python",
   "pygments_lexer": "ipython3",
   "version": "3.10.6"
  }
 },
 "nbformat": 4,
 "nbformat_minor": 4
}
